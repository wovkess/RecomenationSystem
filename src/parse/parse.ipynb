{
 "cells": [
  {
   "cell_type": "code",
   "execution_count": 6,
   "metadata": {},
   "outputs": [],
   "source": [
    "import requests\n",
    "from bs4 import BeautifulSoup"
   ]
  },
  {
   "cell_type": "code",
   "execution_count": 7,
   "metadata": {},
   "outputs": [],
   "source": [
    "url = \"https://www.kinopoisk.ru/lists/movies/top250/\"\n",
    "r = requests.get(url).text\n",
    "# r.text"
   ]
  },
  {
   "cell_type": "code",
   "execution_count": 8,
   "metadata": {},
   "outputs": [],
   "source": [
    "soup = BeautifulSoup(r, 'lxml')\n"
   ]
  },
  {
   "cell_type": "code",
   "execution_count": 9,
   "metadata": {},
   "outputs": [],
   "source": [
    "block = soup.find('div', class_=\"styles_contentSlot__h_lSN\")"
   ]
  },
  {
   "cell_type": "code",
   "execution_count": null,
   "metadata": {},
   "outputs": [],
   "source": []
  },
  {
   "cell_type": "code",
   "execution_count": 10,
   "metadata": {},
   "outputs": [],
   "source": [
    "check_films = block.find('div', class_=\"styles_root__ti07r\")"
   ]
  },
  {
   "cell_type": "code",
   "execution_count": 11,
   "metadata": {},
   "outputs": [
    {
     "name": "stdout",
     "output_type": "stream",
     "text": [
      "<div class=\"styles_root__ti07r\" data-tid=\"8a6cbb06\"><div class=\"styles_root__j_C_S\" data-tid=\"24298726\"><span class=\"styles_position__TDe4E\">1</span></div><a class=\"styles_poster__gJgwz styles_root__wgbNq styles_trailerButton__YTX4X\" data-tid=\"23a2a59\"><img alt=\"Зеленая миля\" class=\"styles_image__gRXvn styles_mediumSizeType__fPzdD image styles_root__DZigd\" data-tid=\"d813cf42\" src=\"//avatars.mds.yandex.net/get-kinopoisk-image/1599028/4057c4b8-8208-4a04-b169-26b0661453e3/68x102\" srcset=\"//avatars.mds.yandex.net/get-kinopoisk-image/1599028/4057c4b8-8208-4a04-b169-26b0661453e3/68x102 1x, //avatars.mds.yandex.net/get-kinopoisk-image/1599028/4057c4b8-8208-4a04-b169-26b0661453e3/136x204 2x\"/><div class=\"styles_rating__ni2L0 styles_root___s7Tg styles_rootMd__ZvdRj styles_rootPositive__PIwO2\" data-tid=\"d5cca7fd\">9.1</div></a><div class=\"styles_content__nT2IG\"><div class=\"styles_upper__j8BIs\"><div class=\"styles_main__Y8zDm styles_mainWithNotCollapsedBeforeSlot__x4cWo\"><a class=\"base-movie-main-info_link__YwtP1\" data-tid=\"d4e8d214\" href=\"/film/435/\"><div class=\"base-movie-main-info_mainInfo__ZL_u3\" data-tid=\"eb1cb4b8\"><span class=\"styles_mainTitle__IFQyZ styles_activeMovieTittle__kJdJj\" data-tid=\"4502216a\">Зеленая миля</span></div><div class=\"desktop-list-main-info_secondaryTitleSlot__mc0mI\"><span class=\"desktop-list-main-info_secondaryTitle__ighTt\">The Green Mile</span><span class=\"desktop-list-main-info_secondaryText__M_aus\">, <!-- -->1999, 189 мин.</span></div><div class=\"desktop-list-main-info_additionalInfo__Hqzof\" data-tid=\"31fba632\"><img alt=\"США\" class=\"countries_flag__5cI2E\" data-tid=\"922aca86\" loading=\"lazy\" src=\"https://st.kp.yandex.net/images/flags/flag-1.gif\"/><span class=\"desktop-list-main-info_truncatedText__IMQRP\">США • драма  Режиссёр: Фрэнк Дарабонт</span></div><div class=\"desktop-list-main-info_additionalInfo__Hqzof\" data-tid=\"31fba632\"><span class=\"desktop-list-main-info_truncatedText__IMQRP\">В ролях: Том Хэнкс, Дэвид Морс</span></div></a></div><div class=\"styles_user__2wZvH\"><div class=\"styles_rating__LU3_x\"><div class=\"styles_kinopoisk__JZttS\" data-tid=\"98b770b\"><span class=\"styles_kinopoiskValuePositive__vOb2E styles_kinopoiskValue__9qXjg\">9.2</span><span class=\"styles_kinopoiskCount__2_VPQ\">110 914</span></div><div class=\"styles_top250__KTSbT\" data-tid=\"98b770b\">Топ 250: <!-- -->1</div></div><div class=\"styles_root__Jhf3F\" data-tid=\"5f28aaab\"><button class=\"styles_plannedToWatch__DGwtf styles_button__ykcOG\" data-tid=\"bcbcc29f\" type=\"button\"><span class=\"styles_icon__vllMt\"></span>Буду смотреть</button><div class=\"styles_root__rCGal styles_movieRatingVotingBar__Iuo2E\" data-tid=\"4bac8177\"><button class=\"styles_closedButton__jVYX8 styles_button__xjFTa styles_movieRatingButton__wKlKz\" data-tid=\"5b23305b\" type=\"button\"><i class=\"styles_star__R6DQ_ styles_controls__X1G1t\"></i></button></div><div class=\"styles_root__g0CT9\" data-tid=\"4a36b453\"><button aria-label=\"Отметить\" class=\"styles_foldersButtons__FUXd0 styles_button__ggqHh styles_vertical__ujDx5\" data-tid=\"1a531fb8\" title=\"Отметить\" type=\"button\"></button></div></div></div></div><div class=\"\"></div></div></div>\n"
     ]
    }
   ],
   "source": [
    "print(check_films)"
   ]
  }
 ],
 "metadata": {
  "kernelspec": {
   "display_name": "Python 3.11.0 64-bit",
   "language": "python",
   "name": "python3"
  },
  "language_info": {
   "codemirror_mode": {
    "name": "ipython",
    "version": 3
   },
   "file_extension": ".py",
   "mimetype": "text/x-python",
   "name": "python",
   "nbconvert_exporter": "python",
   "pygments_lexer": "ipython3",
   "version": "3.11.0"
  },
  "orig_nbformat": 4,
  "vscode": {
   "interpreter": {
    "hash": "b0b081354a9ee32c9423778888a2e2025f22a72ba3f6f37629c1479f83e46a4d"
   }
  }
 },
 "nbformat": 4,
 "nbformat_minor": 2
}
